{
 "cells": [
  {
   "cell_type": "markdown",
   "id": "f80286bf",
   "metadata": {},
   "source": [
    "Before running this notebook ensure that pydruid, sqlalchemy and pycaret are installed in your python environment. This notebook was tested on pythin 3.8"
   ]
  },
  {
   "cell_type": "code",
   "execution_count": 1,
   "id": "4d95b22c",
   "metadata": {},
   "outputs": [],
   "source": [
    "from sqlalchemy import *\n",
    "from sqlalchemy.engine import create_engine\n",
    "from sqlalchemy.schema import *"
   ]
  },
  {
   "cell_type": "code",
   "execution_count": 4,
   "id": "dad07172",
   "metadata": {},
   "outputs": [],
   "source": [
    "import numpy as np\n",
    "import pandas as pd\n",
    "from pykafka import KafkaClient"
   ]
  },
  {
   "cell_type": "markdown",
   "id": "6f1a6a53",
   "metadata": {},
   "source": [
    "create druid connection using sqlalchemy. The below assumes that basic auth is enabled on druid.  "
   ]
  },
  {
   "cell_type": "code",
   "execution_count": 3,
   "id": "85163441",
   "metadata": {},
   "outputs": [],
   "source": [
    "engine2 = create_engine('druid+https://<user>:<password>@<host name>:<port>/druid/v2/sql/',\n",
    "                       connect_args={\"ssl_verify_cert\": False}) \n",
    "\n",
    "\n",
    "\n"
   ]
  },
  {
   "cell_type": "markdown",
   "id": "8692c1d7",
   "metadata": {},
   "source": [
    "execute druid sql query and convert result to data frame. This query brings in the last 10s of data"
   ]
  },
  {
   "cell_type": "code",
   "execution_count": 4,
   "id": "55ede44a",
   "metadata": {},
   "outputs": [
    {
     "name": "stderr",
     "output_type": "stream",
     "text": [
      "/Users/vijaynarayanan/opt/miniconda3/envs/yourenvname/lib/python3.8/site-packages/urllib3/connectionpool.py:1013: InsecureRequestWarning: Unverified HTTPS request is being made to host 'imply-5a4-elbexter-nbmowies6fhw-1567340883.us-east-1.elb.amazonaws.com'. Adding certificate verification is strongly advised. See: https://urllib3.readthedocs.io/en/1.26.x/advanced-usage.html#ssl-warnings\n",
      "  warnings.warn(\n"
     ]
    }
   ],
   "source": [
    "conn2=engine2.connect()\n",
    "result2 = conn2.execute(text(\"select * from ml1 where __time > TIME_SHIFT(CURRENT_TIMESTAMP,'PT10S',-1)\"))\n",
    "df2=pd.DataFrame(result2.mappings())"
   ]
  },
  {
   "cell_type": "markdown",
   "id": "4e24eb0c",
   "metadata": {},
   "source": [
    "the below dataset is the python iris dataset with a prediction using a classifier (random forest). \n",
    "The predictions along with the input are ingested into druid"
   ]
  },
  {
   "cell_type": "code",
   "execution_count": 5,
   "id": "632cf260",
   "metadata": {},
   "outputs": [
    {
     "data": {
      "text/html": [
       "<div>\n",
       "<style scoped>\n",
       "    .dataframe tbody tr th:only-of-type {\n",
       "        vertical-align: middle;\n",
       "    }\n",
       "\n",
       "    .dataframe tbody tr th {\n",
       "        vertical-align: top;\n",
       "    }\n",
       "\n",
       "    .dataframe thead th {\n",
       "        text-align: right;\n",
       "    }\n",
       "</style>\n",
       "<table border=\"1\" class=\"dataframe\">\n",
       "  <thead>\n",
       "    <tr style=\"text-align: right;\">\n",
       "      <th></th>\n",
       "      <th>__time</th>\n",
       "      <th>col1</th>\n",
       "      <th>col2</th>\n",
       "      <th>col3</th>\n",
       "      <th>col4</th>\n",
       "      <th>predict</th>\n",
       "    </tr>\n",
       "  </thead>\n",
       "  <tbody>\n",
       "    <tr>\n",
       "      <th>0</th>\n",
       "      <td>2021-08-30T05:20:31.003Z</td>\n",
       "      <td>5.9</td>\n",
       "      <td>4.1</td>\n",
       "      <td>2.5</td>\n",
       "      <td>1.1</td>\n",
       "      <td>0</td>\n",
       "    </tr>\n",
       "    <tr>\n",
       "      <th>1</th>\n",
       "      <td>2021-08-30T05:20:31.006Z</td>\n",
       "      <td>5.8</td>\n",
       "      <td>4.0</td>\n",
       "      <td>2.4</td>\n",
       "      <td>1.3</td>\n",
       "      <td>0</td>\n",
       "    </tr>\n",
       "    <tr>\n",
       "      <th>2</th>\n",
       "      <td>2021-08-30T05:20:31.010Z</td>\n",
       "      <td>5.4</td>\n",
       "      <td>4.0</td>\n",
       "      <td>2.3</td>\n",
       "      <td>1.2</td>\n",
       "      <td>0</td>\n",
       "    </tr>\n",
       "    <tr>\n",
       "      <th>3</th>\n",
       "      <td>2021-08-30T05:20:31.014Z</td>\n",
       "      <td>5.8</td>\n",
       "      <td>4.4</td>\n",
       "      <td>2.6</td>\n",
       "      <td>1.2</td>\n",
       "      <td>0</td>\n",
       "    </tr>\n",
       "    <tr>\n",
       "      <th>4</th>\n",
       "      <td>2021-08-30T05:20:31.017Z</td>\n",
       "      <td>7.7</td>\n",
       "      <td>4.3</td>\n",
       "      <td>6.7</td>\n",
       "      <td>3.1</td>\n",
       "      <td>1</td>\n",
       "    </tr>\n",
       "  </tbody>\n",
       "</table>\n",
       "</div>"
      ],
      "text/plain": [
       "                     __time  col1  col2  col3  col4  predict\n",
       "0  2021-08-30T05:20:31.003Z   5.9   4.1   2.5   1.1        0\n",
       "1  2021-08-30T05:20:31.006Z   5.8   4.0   2.4   1.3        0\n",
       "2  2021-08-30T05:20:31.010Z   5.4   4.0   2.3   1.2        0\n",
       "3  2021-08-30T05:20:31.014Z   5.8   4.4   2.6   1.2        0\n",
       "4  2021-08-30T05:20:31.017Z   7.7   4.3   6.7   3.1        1"
      ]
     },
     "execution_count": 5,
     "metadata": {},
     "output_type": "execute_result"
    }
   ],
   "source": [
    "df2.head()"
   ]
  },
  {
   "cell_type": "markdown",
   "id": "c3905e52",
   "metadata": {},
   "source": [
    "setup pycaret and train anomaly model"
   ]
  },
  {
   "cell_type": "code",
   "execution_count": 6,
   "id": "e3a389a4",
   "metadata": {},
   "outputs": [],
   "source": [
    "import pycaret"
   ]
  },
  {
   "cell_type": "code",
   "execution_count": 7,
   "id": "88b7923c",
   "metadata": {},
   "outputs": [],
   "source": [
    "from pycaret.anomaly import *"
   ]
  },
  {
   "cell_type": "code",
   "execution_count": 8,
   "id": "46cc6ef9",
   "metadata": {},
   "outputs": [
    {
     "data": {
      "text/html": [
       "<style type=\"text/css\">\n",
       "#T_fdb8f_row21_col1 {\n",
       "  background-color: lightgreen;\n",
       "}\n",
       "</style>\n",
       "<table id=\"T_fdb8f_\">\n",
       "  <thead>\n",
       "    <tr>\n",
       "      <th class=\"blank level0\" >&nbsp;</th>\n",
       "      <th class=\"col_heading level0 col0\" >Description</th>\n",
       "      <th class=\"col_heading level0 col1\" >Value</th>\n",
       "    </tr>\n",
       "  </thead>\n",
       "  <tbody>\n",
       "    <tr>\n",
       "      <th id=\"T_fdb8f_level0_row0\" class=\"row_heading level0 row0\" >0</th>\n",
       "      <td id=\"T_fdb8f_row0_col0\" class=\"data row0 col0\" >session_id</td>\n",
       "      <td id=\"T_fdb8f_row0_col1\" class=\"data row0 col1\" >123</td>\n",
       "    </tr>\n",
       "    <tr>\n",
       "      <th id=\"T_fdb8f_level0_row1\" class=\"row_heading level0 row1\" >1</th>\n",
       "      <td id=\"T_fdb8f_row1_col0\" class=\"data row1 col0\" >Original Data</td>\n",
       "      <td id=\"T_fdb8f_row1_col1\" class=\"data row1 col1\" >(1839, 6)</td>\n",
       "    </tr>\n",
       "    <tr>\n",
       "      <th id=\"T_fdb8f_level0_row2\" class=\"row_heading level0 row2\" >2</th>\n",
       "      <td id=\"T_fdb8f_row2_col0\" class=\"data row2 col0\" >Missing Values</td>\n",
       "      <td id=\"T_fdb8f_row2_col1\" class=\"data row2 col1\" >False</td>\n",
       "    </tr>\n",
       "    <tr>\n",
       "      <th id=\"T_fdb8f_level0_row3\" class=\"row_heading level0 row3\" >3</th>\n",
       "      <td id=\"T_fdb8f_row3_col0\" class=\"data row3 col0\" >Numeric Features</td>\n",
       "      <td id=\"T_fdb8f_row3_col1\" class=\"data row3 col1\" >4</td>\n",
       "    </tr>\n",
       "    <tr>\n",
       "      <th id=\"T_fdb8f_level0_row4\" class=\"row_heading level0 row4\" >4</th>\n",
       "      <td id=\"T_fdb8f_row4_col0\" class=\"data row4 col0\" >Categorical Features</td>\n",
       "      <td id=\"T_fdb8f_row4_col1\" class=\"data row4 col1\" >1</td>\n",
       "    </tr>\n",
       "    <tr>\n",
       "      <th id=\"T_fdb8f_level0_row5\" class=\"row_heading level0 row5\" >5</th>\n",
       "      <td id=\"T_fdb8f_row5_col0\" class=\"data row5 col0\" >Ordinal Features</td>\n",
       "      <td id=\"T_fdb8f_row5_col1\" class=\"data row5 col1\" >False</td>\n",
       "    </tr>\n",
       "    <tr>\n",
       "      <th id=\"T_fdb8f_level0_row6\" class=\"row_heading level0 row6\" >6</th>\n",
       "      <td id=\"T_fdb8f_row6_col0\" class=\"data row6 col0\" >High Cardinality Features</td>\n",
       "      <td id=\"T_fdb8f_row6_col1\" class=\"data row6 col1\" >False</td>\n",
       "    </tr>\n",
       "    <tr>\n",
       "      <th id=\"T_fdb8f_level0_row7\" class=\"row_heading level0 row7\" >7</th>\n",
       "      <td id=\"T_fdb8f_row7_col0\" class=\"data row7 col0\" >High Cardinality Method</td>\n",
       "      <td id=\"T_fdb8f_row7_col1\" class=\"data row7 col1\" >None</td>\n",
       "    </tr>\n",
       "    <tr>\n",
       "      <th id=\"T_fdb8f_level0_row8\" class=\"row_heading level0 row8\" >8</th>\n",
       "      <td id=\"T_fdb8f_row8_col0\" class=\"data row8 col0\" >Transformed Data</td>\n",
       "      <td id=\"T_fdb8f_row8_col1\" class=\"data row8 col1\" >(1839, 12)</td>\n",
       "    </tr>\n",
       "    <tr>\n",
       "      <th id=\"T_fdb8f_level0_row9\" class=\"row_heading level0 row9\" >9</th>\n",
       "      <td id=\"T_fdb8f_row9_col0\" class=\"data row9 col0\" >CPU Jobs</td>\n",
       "      <td id=\"T_fdb8f_row9_col1\" class=\"data row9 col1\" >-1</td>\n",
       "    </tr>\n",
       "    <tr>\n",
       "      <th id=\"T_fdb8f_level0_row10\" class=\"row_heading level0 row10\" >10</th>\n",
       "      <td id=\"T_fdb8f_row10_col0\" class=\"data row10 col0\" >Use GPU</td>\n",
       "      <td id=\"T_fdb8f_row10_col1\" class=\"data row10 col1\" >False</td>\n",
       "    </tr>\n",
       "    <tr>\n",
       "      <th id=\"T_fdb8f_level0_row11\" class=\"row_heading level0 row11\" >11</th>\n",
       "      <td id=\"T_fdb8f_row11_col0\" class=\"data row11 col0\" >Log Experiment</td>\n",
       "      <td id=\"T_fdb8f_row11_col1\" class=\"data row11 col1\" >False</td>\n",
       "    </tr>\n",
       "    <tr>\n",
       "      <th id=\"T_fdb8f_level0_row12\" class=\"row_heading level0 row12\" >12</th>\n",
       "      <td id=\"T_fdb8f_row12_col0\" class=\"data row12 col0\" >Experiment Name</td>\n",
       "      <td id=\"T_fdb8f_row12_col1\" class=\"data row12 col1\" >anomaly-default-name</td>\n",
       "    </tr>\n",
       "    <tr>\n",
       "      <th id=\"T_fdb8f_level0_row13\" class=\"row_heading level0 row13\" >13</th>\n",
       "      <td id=\"T_fdb8f_row13_col0\" class=\"data row13 col0\" >USI</td>\n",
       "      <td id=\"T_fdb8f_row13_col1\" class=\"data row13 col1\" >a64b</td>\n",
       "    </tr>\n",
       "    <tr>\n",
       "      <th id=\"T_fdb8f_level0_row14\" class=\"row_heading level0 row14\" >14</th>\n",
       "      <td id=\"T_fdb8f_row14_col0\" class=\"data row14 col0\" >Imputation Type</td>\n",
       "      <td id=\"T_fdb8f_row14_col1\" class=\"data row14 col1\" >simple</td>\n",
       "    </tr>\n",
       "    <tr>\n",
       "      <th id=\"T_fdb8f_level0_row15\" class=\"row_heading level0 row15\" >15</th>\n",
       "      <td id=\"T_fdb8f_row15_col0\" class=\"data row15 col0\" >Iterative Imputation Iteration</td>\n",
       "      <td id=\"T_fdb8f_row15_col1\" class=\"data row15 col1\" >None</td>\n",
       "    </tr>\n",
       "    <tr>\n",
       "      <th id=\"T_fdb8f_level0_row16\" class=\"row_heading level0 row16\" >16</th>\n",
       "      <td id=\"T_fdb8f_row16_col0\" class=\"data row16 col0\" >Numeric Imputer</td>\n",
       "      <td id=\"T_fdb8f_row16_col1\" class=\"data row16 col1\" >mean</td>\n",
       "    </tr>\n",
       "    <tr>\n",
       "      <th id=\"T_fdb8f_level0_row17\" class=\"row_heading level0 row17\" >17</th>\n",
       "      <td id=\"T_fdb8f_row17_col0\" class=\"data row17 col0\" >Iterative Imputation Numeric Model</td>\n",
       "      <td id=\"T_fdb8f_row17_col1\" class=\"data row17 col1\" >None</td>\n",
       "    </tr>\n",
       "    <tr>\n",
       "      <th id=\"T_fdb8f_level0_row18\" class=\"row_heading level0 row18\" >18</th>\n",
       "      <td id=\"T_fdb8f_row18_col0\" class=\"data row18 col0\" >Categorical Imputer</td>\n",
       "      <td id=\"T_fdb8f_row18_col1\" class=\"data row18 col1\" >mode</td>\n",
       "    </tr>\n",
       "    <tr>\n",
       "      <th id=\"T_fdb8f_level0_row19\" class=\"row_heading level0 row19\" >19</th>\n",
       "      <td id=\"T_fdb8f_row19_col0\" class=\"data row19 col0\" >Iterative Imputation Categorical Model</td>\n",
       "      <td id=\"T_fdb8f_row19_col1\" class=\"data row19 col1\" >None</td>\n",
       "    </tr>\n",
       "    <tr>\n",
       "      <th id=\"T_fdb8f_level0_row20\" class=\"row_heading level0 row20\" >20</th>\n",
       "      <td id=\"T_fdb8f_row20_col0\" class=\"data row20 col0\" >Unknown Categoricals Handling</td>\n",
       "      <td id=\"T_fdb8f_row20_col1\" class=\"data row20 col1\" >least_frequent</td>\n",
       "    </tr>\n",
       "    <tr>\n",
       "      <th id=\"T_fdb8f_level0_row21\" class=\"row_heading level0 row21\" >21</th>\n",
       "      <td id=\"T_fdb8f_row21_col0\" class=\"data row21 col0\" >Normalize</td>\n",
       "      <td id=\"T_fdb8f_row21_col1\" class=\"data row21 col1\" >True</td>\n",
       "    </tr>\n",
       "    <tr>\n",
       "      <th id=\"T_fdb8f_level0_row22\" class=\"row_heading level0 row22\" >22</th>\n",
       "      <td id=\"T_fdb8f_row22_col0\" class=\"data row22 col0\" >Normalize Method</td>\n",
       "      <td id=\"T_fdb8f_row22_col1\" class=\"data row22 col1\" >zscore</td>\n",
       "    </tr>\n",
       "    <tr>\n",
       "      <th id=\"T_fdb8f_level0_row23\" class=\"row_heading level0 row23\" >23</th>\n",
       "      <td id=\"T_fdb8f_row23_col0\" class=\"data row23 col0\" >Transformation</td>\n",
       "      <td id=\"T_fdb8f_row23_col1\" class=\"data row23 col1\" >False</td>\n",
       "    </tr>\n",
       "    <tr>\n",
       "      <th id=\"T_fdb8f_level0_row24\" class=\"row_heading level0 row24\" >24</th>\n",
       "      <td id=\"T_fdb8f_row24_col0\" class=\"data row24 col0\" >Transformation Method</td>\n",
       "      <td id=\"T_fdb8f_row24_col1\" class=\"data row24 col1\" >None</td>\n",
       "    </tr>\n",
       "    <tr>\n",
       "      <th id=\"T_fdb8f_level0_row25\" class=\"row_heading level0 row25\" >25</th>\n",
       "      <td id=\"T_fdb8f_row25_col0\" class=\"data row25 col0\" >PCA</td>\n",
       "      <td id=\"T_fdb8f_row25_col1\" class=\"data row25 col1\" >False</td>\n",
       "    </tr>\n",
       "    <tr>\n",
       "      <th id=\"T_fdb8f_level0_row26\" class=\"row_heading level0 row26\" >26</th>\n",
       "      <td id=\"T_fdb8f_row26_col0\" class=\"data row26 col0\" >PCA Method</td>\n",
       "      <td id=\"T_fdb8f_row26_col1\" class=\"data row26 col1\" >None</td>\n",
       "    </tr>\n",
       "    <tr>\n",
       "      <th id=\"T_fdb8f_level0_row27\" class=\"row_heading level0 row27\" >27</th>\n",
       "      <td id=\"T_fdb8f_row27_col0\" class=\"data row27 col0\" >PCA Components</td>\n",
       "      <td id=\"T_fdb8f_row27_col1\" class=\"data row27 col1\" >None</td>\n",
       "    </tr>\n",
       "    <tr>\n",
       "      <th id=\"T_fdb8f_level0_row28\" class=\"row_heading level0 row28\" >28</th>\n",
       "      <td id=\"T_fdb8f_row28_col0\" class=\"data row28 col0\" >Ignore Low Variance</td>\n",
       "      <td id=\"T_fdb8f_row28_col1\" class=\"data row28 col1\" >False</td>\n",
       "    </tr>\n",
       "    <tr>\n",
       "      <th id=\"T_fdb8f_level0_row29\" class=\"row_heading level0 row29\" >29</th>\n",
       "      <td id=\"T_fdb8f_row29_col0\" class=\"data row29 col0\" >Combine Rare Levels</td>\n",
       "      <td id=\"T_fdb8f_row29_col1\" class=\"data row29 col1\" >False</td>\n",
       "    </tr>\n",
       "    <tr>\n",
       "      <th id=\"T_fdb8f_level0_row30\" class=\"row_heading level0 row30\" >30</th>\n",
       "      <td id=\"T_fdb8f_row30_col0\" class=\"data row30 col0\" >Rare Level Threshold</td>\n",
       "      <td id=\"T_fdb8f_row30_col1\" class=\"data row30 col1\" >None</td>\n",
       "    </tr>\n",
       "    <tr>\n",
       "      <th id=\"T_fdb8f_level0_row31\" class=\"row_heading level0 row31\" >31</th>\n",
       "      <td id=\"T_fdb8f_row31_col0\" class=\"data row31 col0\" >Numeric Binning</td>\n",
       "      <td id=\"T_fdb8f_row31_col1\" class=\"data row31 col1\" >False</td>\n",
       "    </tr>\n",
       "    <tr>\n",
       "      <th id=\"T_fdb8f_level0_row32\" class=\"row_heading level0 row32\" >32</th>\n",
       "      <td id=\"T_fdb8f_row32_col0\" class=\"data row32 col0\" >Remove Outliers</td>\n",
       "      <td id=\"T_fdb8f_row32_col1\" class=\"data row32 col1\" >False</td>\n",
       "    </tr>\n",
       "    <tr>\n",
       "      <th id=\"T_fdb8f_level0_row33\" class=\"row_heading level0 row33\" >33</th>\n",
       "      <td id=\"T_fdb8f_row33_col0\" class=\"data row33 col0\" >Outliers Threshold</td>\n",
       "      <td id=\"T_fdb8f_row33_col1\" class=\"data row33 col1\" >None</td>\n",
       "    </tr>\n",
       "    <tr>\n",
       "      <th id=\"T_fdb8f_level0_row34\" class=\"row_heading level0 row34\" >34</th>\n",
       "      <td id=\"T_fdb8f_row34_col0\" class=\"data row34 col0\" >Remove Multicollinearity</td>\n",
       "      <td id=\"T_fdb8f_row34_col1\" class=\"data row34 col1\" >False</td>\n",
       "    </tr>\n",
       "    <tr>\n",
       "      <th id=\"T_fdb8f_level0_row35\" class=\"row_heading level0 row35\" >35</th>\n",
       "      <td id=\"T_fdb8f_row35_col0\" class=\"data row35 col0\" >Multicollinearity Threshold</td>\n",
       "      <td id=\"T_fdb8f_row35_col1\" class=\"data row35 col1\" >None</td>\n",
       "    </tr>\n",
       "    <tr>\n",
       "      <th id=\"T_fdb8f_level0_row36\" class=\"row_heading level0 row36\" >36</th>\n",
       "      <td id=\"T_fdb8f_row36_col0\" class=\"data row36 col0\" >Remove Perfect Collinearity</td>\n",
       "      <td id=\"T_fdb8f_row36_col1\" class=\"data row36 col1\" >False</td>\n",
       "    </tr>\n",
       "    <tr>\n",
       "      <th id=\"T_fdb8f_level0_row37\" class=\"row_heading level0 row37\" >37</th>\n",
       "      <td id=\"T_fdb8f_row37_col0\" class=\"data row37 col0\" >Clustering</td>\n",
       "      <td id=\"T_fdb8f_row37_col1\" class=\"data row37 col1\" >False</td>\n",
       "    </tr>\n",
       "    <tr>\n",
       "      <th id=\"T_fdb8f_level0_row38\" class=\"row_heading level0 row38\" >38</th>\n",
       "      <td id=\"T_fdb8f_row38_col0\" class=\"data row38 col0\" >Clustering Iteration</td>\n",
       "      <td id=\"T_fdb8f_row38_col1\" class=\"data row38 col1\" >None</td>\n",
       "    </tr>\n",
       "    <tr>\n",
       "      <th id=\"T_fdb8f_level0_row39\" class=\"row_heading level0 row39\" >39</th>\n",
       "      <td id=\"T_fdb8f_row39_col0\" class=\"data row39 col0\" >Polynomial Features</td>\n",
       "      <td id=\"T_fdb8f_row39_col1\" class=\"data row39 col1\" >False</td>\n",
       "    </tr>\n",
       "    <tr>\n",
       "      <th id=\"T_fdb8f_level0_row40\" class=\"row_heading level0 row40\" >40</th>\n",
       "      <td id=\"T_fdb8f_row40_col0\" class=\"data row40 col0\" >Polynomial Degree</td>\n",
       "      <td id=\"T_fdb8f_row40_col1\" class=\"data row40 col1\" >None</td>\n",
       "    </tr>\n",
       "    <tr>\n",
       "      <th id=\"T_fdb8f_level0_row41\" class=\"row_heading level0 row41\" >41</th>\n",
       "      <td id=\"T_fdb8f_row41_col0\" class=\"data row41 col0\" >Trignometry Features</td>\n",
       "      <td id=\"T_fdb8f_row41_col1\" class=\"data row41 col1\" >False</td>\n",
       "    </tr>\n",
       "    <tr>\n",
       "      <th id=\"T_fdb8f_level0_row42\" class=\"row_heading level0 row42\" >42</th>\n",
       "      <td id=\"T_fdb8f_row42_col0\" class=\"data row42 col0\" >Polynomial Threshold</td>\n",
       "      <td id=\"T_fdb8f_row42_col1\" class=\"data row42 col1\" >None</td>\n",
       "    </tr>\n",
       "    <tr>\n",
       "      <th id=\"T_fdb8f_level0_row43\" class=\"row_heading level0 row43\" >43</th>\n",
       "      <td id=\"T_fdb8f_row43_col0\" class=\"data row43 col0\" >Group Features</td>\n",
       "      <td id=\"T_fdb8f_row43_col1\" class=\"data row43 col1\" >False</td>\n",
       "    </tr>\n",
       "    <tr>\n",
       "      <th id=\"T_fdb8f_level0_row44\" class=\"row_heading level0 row44\" >44</th>\n",
       "      <td id=\"T_fdb8f_row44_col0\" class=\"data row44 col0\" >Feature Selection</td>\n",
       "      <td id=\"T_fdb8f_row44_col1\" class=\"data row44 col1\" >False</td>\n",
       "    </tr>\n",
       "    <tr>\n",
       "      <th id=\"T_fdb8f_level0_row45\" class=\"row_heading level0 row45\" >45</th>\n",
       "      <td id=\"T_fdb8f_row45_col0\" class=\"data row45 col0\" >Feature Selection Method</td>\n",
       "      <td id=\"T_fdb8f_row45_col1\" class=\"data row45 col1\" >classic</td>\n",
       "    </tr>\n",
       "    <tr>\n",
       "      <th id=\"T_fdb8f_level0_row46\" class=\"row_heading level0 row46\" >46</th>\n",
       "      <td id=\"T_fdb8f_row46_col0\" class=\"data row46 col0\" >Features Selection Threshold</td>\n",
       "      <td id=\"T_fdb8f_row46_col1\" class=\"data row46 col1\" >None</td>\n",
       "    </tr>\n",
       "    <tr>\n",
       "      <th id=\"T_fdb8f_level0_row47\" class=\"row_heading level0 row47\" >47</th>\n",
       "      <td id=\"T_fdb8f_row47_col0\" class=\"data row47 col0\" >Feature Interaction</td>\n",
       "      <td id=\"T_fdb8f_row47_col1\" class=\"data row47 col1\" >False</td>\n",
       "    </tr>\n",
       "    <tr>\n",
       "      <th id=\"T_fdb8f_level0_row48\" class=\"row_heading level0 row48\" >48</th>\n",
       "      <td id=\"T_fdb8f_row48_col0\" class=\"data row48 col0\" >Feature Ratio</td>\n",
       "      <td id=\"T_fdb8f_row48_col1\" class=\"data row48 col1\" >False</td>\n",
       "    </tr>\n",
       "    <tr>\n",
       "      <th id=\"T_fdb8f_level0_row49\" class=\"row_heading level0 row49\" >49</th>\n",
       "      <td id=\"T_fdb8f_row49_col0\" class=\"data row49 col0\" >Interaction Threshold</td>\n",
       "      <td id=\"T_fdb8f_row49_col1\" class=\"data row49 col1\" >None</td>\n",
       "    </tr>\n",
       "  </tbody>\n",
       "</table>\n"
      ],
      "text/plain": [
       "<pandas.io.formats.style.Styler at 0x7ffd2c82c850>"
      ]
     },
     "metadata": {},
     "output_type": "display_data"
    }
   ],
   "source": [
    "exp1=setup(df2,normalize = True,silent=True,session_id=123)"
   ]
  },
  {
   "cell_type": "code",
   "execution_count": 9,
   "id": "d72f976e",
   "metadata": {},
   "outputs": [],
   "source": [
    "\n",
    "iforest = create_model('iforest')"
   ]
  },
  {
   "cell_type": "code",
   "execution_count": 10,
   "id": "bf77d062",
   "metadata": {},
   "outputs": [],
   "source": [
    "iforest_results = assign_model(iforest)"
   ]
  },
  {
   "cell_type": "code",
   "execution_count": 11,
   "id": "d0446da3",
   "metadata": {},
   "outputs": [
    {
     "data": {
      "text/plain": [
       "(86, 8)"
      ]
     },
     "execution_count": 11,
     "metadata": {},
     "output_type": "execute_result"
    }
   ],
   "source": [
    "iforest_results[iforest_results['Anomaly']==1].shape"
   ]
  },
  {
   "cell_type": "code",
   "execution_count": 12,
   "id": "9d1d0c60",
   "metadata": {},
   "outputs": [
    {
     "data": {
      "text/plain": [
       "(1753, 8)"
      ]
     },
     "execution_count": 12,
     "metadata": {},
     "output_type": "execute_result"
    }
   ],
   "source": [
    "iforest_results[iforest_results['Anomaly']==0].shape"
   ]
  },
  {
   "cell_type": "code",
   "execution_count": 13,
   "id": "135317ad",
   "metadata": {},
   "outputs": [
    {
     "data": {
      "text/html": [
       "<div>\n",
       "<style scoped>\n",
       "    .dataframe tbody tr th:only-of-type {\n",
       "        vertical-align: middle;\n",
       "    }\n",
       "\n",
       "    .dataframe tbody tr th {\n",
       "        vertical-align: top;\n",
       "    }\n",
       "\n",
       "    .dataframe thead th {\n",
       "        text-align: right;\n",
       "    }\n",
       "</style>\n",
       "<table border=\"1\" class=\"dataframe\">\n",
       "  <thead>\n",
       "    <tr style=\"text-align: right;\">\n",
       "      <th></th>\n",
       "      <th>__time</th>\n",
       "      <th>col1</th>\n",
       "      <th>col2</th>\n",
       "      <th>col3</th>\n",
       "      <th>col4</th>\n",
       "      <th>predict</th>\n",
       "      <th>Anomaly</th>\n",
       "      <th>Anomaly_Score</th>\n",
       "    </tr>\n",
       "  </thead>\n",
       "  <tbody>\n",
       "    <tr>\n",
       "      <th>0</th>\n",
       "      <td>2021-08-30T05:20:31.003Z</td>\n",
       "      <td>5.9</td>\n",
       "      <td>4.1</td>\n",
       "      <td>2.5</td>\n",
       "      <td>1.1</td>\n",
       "      <td>0</td>\n",
       "      <td>0</td>\n",
       "      <td>-0.068035</td>\n",
       "    </tr>\n",
       "    <tr>\n",
       "      <th>1</th>\n",
       "      <td>2021-08-30T05:20:31.006Z</td>\n",
       "      <td>5.8</td>\n",
       "      <td>4.0</td>\n",
       "      <td>2.4</td>\n",
       "      <td>1.3</td>\n",
       "      <td>0</td>\n",
       "      <td>0</td>\n",
       "      <td>-0.068056</td>\n",
       "    </tr>\n",
       "    <tr>\n",
       "      <th>2</th>\n",
       "      <td>2021-08-30T05:20:31.010Z</td>\n",
       "      <td>5.4</td>\n",
       "      <td>4.0</td>\n",
       "      <td>2.3</td>\n",
       "      <td>1.2</td>\n",
       "      <td>0</td>\n",
       "      <td>0</td>\n",
       "      <td>-0.094751</td>\n",
       "    </tr>\n",
       "    <tr>\n",
       "      <th>3</th>\n",
       "      <td>2021-08-30T05:20:31.014Z</td>\n",
       "      <td>5.8</td>\n",
       "      <td>4.4</td>\n",
       "      <td>2.6</td>\n",
       "      <td>1.2</td>\n",
       "      <td>0</td>\n",
       "      <td>0</td>\n",
       "      <td>-0.119813</td>\n",
       "    </tr>\n",
       "    <tr>\n",
       "      <th>4</th>\n",
       "      <td>2021-08-30T05:20:31.017Z</td>\n",
       "      <td>7.7</td>\n",
       "      <td>4.3</td>\n",
       "      <td>6.7</td>\n",
       "      <td>3.1</td>\n",
       "      <td>1</td>\n",
       "      <td>0</td>\n",
       "      <td>-0.122804</td>\n",
       "    </tr>\n",
       "  </tbody>\n",
       "</table>\n",
       "</div>"
      ],
      "text/plain": [
       "                     __time  col1  col2  col3  col4  predict  Anomaly  \\\n",
       "0  2021-08-30T05:20:31.003Z   5.9   4.1   2.5   1.1        0        0   \n",
       "1  2021-08-30T05:20:31.006Z   5.8   4.0   2.4   1.3        0        0   \n",
       "2  2021-08-30T05:20:31.010Z   5.4   4.0   2.3   1.2        0        0   \n",
       "3  2021-08-30T05:20:31.014Z   5.8   4.4   2.6   1.2        0        0   \n",
       "4  2021-08-30T05:20:31.017Z   7.7   4.3   6.7   3.1        1        0   \n",
       "\n",
       "   Anomaly_Score  \n",
       "0      -0.068035  \n",
       "1      -0.068056  \n",
       "2      -0.094751  \n",
       "3      -0.119813  \n",
       "4      -0.122804  "
      ]
     },
     "execution_count": 13,
     "metadata": {},
     "output_type": "execute_result"
    }
   ],
   "source": [
    "iforest_results.head()"
   ]
  },
  {
   "cell_type": "code",
   "execution_count": 14,
   "id": "4288dfed",
   "metadata": {},
   "outputs": [
    {
     "name": "stdout",
     "output_type": "stream",
     "text": [
      "Transformation Pipeline and Model Successfully Saved\n"
     ]
    },
    {
     "data": {
      "text/plain": [
       "(Pipeline(memory=None,\n",
       "          steps=[('dtypes',\n",
       "                  DataTypes_Auto_infer(categorical_features=[],\n",
       "                                       display_types=False, features_todrop=[],\n",
       "                                       id_columns=[], ml_usecase='regression',\n",
       "                                       numerical_features=[],\n",
       "                                       target='UNSUPERVISED_DUMMY_TARGET',\n",
       "                                       time_features=[])),\n",
       "                 ('imputer',\n",
       "                  Simple_Imputer(categorical_strategy='most frequent',\n",
       "                                 fill_value_categorical=None,\n",
       "                                 fill_value_numerical=Non...\n",
       "                 ('fix_perfect', 'passthrough'),\n",
       "                 ('clean_names', Clean_Colum_Names()),\n",
       "                 ('feature_select', 'passthrough'), ('fix_multi', 'passthrough'),\n",
       "                 ('dfs', 'passthrough'), ('pca', 'passthrough'),\n",
       "                 ['trained_model',\n",
       "                  IForest(behaviour='new', bootstrap=False, contamination=0.05,\n",
       "     max_features=1.0, max_samples='auto', n_estimators=100, n_jobs=-1,\n",
       "     random_state=123, verbose=0)]],\n",
       "          verbose=False),\n",
       " 'iforest.pkl')"
      ]
     },
     "execution_count": 14,
     "metadata": {},
     "output_type": "execute_result"
    }
   ],
   "source": [
    "save_model(iforest, model_name='iforest')\n",
    "#save model"
   ]
  },
  {
   "cell_type": "code",
   "execution_count": 15,
   "id": "61b56113",
   "metadata": {},
   "outputs": [
    {
     "name": "stdout",
     "output_type": "stream",
     "text": [
      "Transformation Pipeline and Model Successfully Loaded\n"
     ]
    }
   ],
   "source": [
    "loaded_iforest = load_model('iforest')\n",
    "#load saved model"
   ]
  },
  {
   "cell_type": "code",
   "execution_count": 16,
   "id": "0f9b72ca",
   "metadata": {},
   "outputs": [],
   "source": [
    "result3 = conn2.execute(text(\"select * from ml1 where __time > TIME_SHIFT(CURRENT_TIMESTAMP,'PT10S',-1)\"))\n",
    "df3=pd.DataFrame(result3.mappings())"
   ]
  },
  {
   "cell_type": "code",
   "execution_count": 17,
   "id": "c3e1c0e8",
   "metadata": {},
   "outputs": [],
   "source": [
    "pred_new = predict_model(loaded_iforest , data=df3)"
   ]
  },
  {
   "cell_type": "code",
   "execution_count": 18,
   "id": "4522341f",
   "metadata": {},
   "outputs": [
    {
     "data": {
      "text/html": [
       "<div>\n",
       "<style scoped>\n",
       "    .dataframe tbody tr th:only-of-type {\n",
       "        vertical-align: middle;\n",
       "    }\n",
       "\n",
       "    .dataframe tbody tr th {\n",
       "        vertical-align: top;\n",
       "    }\n",
       "\n",
       "    .dataframe thead th {\n",
       "        text-align: right;\n",
       "    }\n",
       "</style>\n",
       "<table border=\"1\" class=\"dataframe\">\n",
       "  <thead>\n",
       "    <tr style=\"text-align: right;\">\n",
       "      <th></th>\n",
       "      <th>__time</th>\n",
       "      <th>col1</th>\n",
       "      <th>col2</th>\n",
       "      <th>col3</th>\n",
       "      <th>col4</th>\n",
       "      <th>predict</th>\n",
       "      <th>Anomaly</th>\n",
       "      <th>Anomaly_Score</th>\n",
       "    </tr>\n",
       "  </thead>\n",
       "  <tbody>\n",
       "    <tr>\n",
       "      <th>0</th>\n",
       "      <td>2021-08-30T05:21:04.006Z</td>\n",
       "      <td>6.8</td>\n",
       "      <td>3.7</td>\n",
       "      <td>4.9</td>\n",
       "      <td>2.2</td>\n",
       "      <td>1</td>\n",
       "      <td>0</td>\n",
       "      <td>-0.164129</td>\n",
       "    </tr>\n",
       "    <tr>\n",
       "      <th>1</th>\n",
       "      <td>2021-08-30T05:21:04.012Z</td>\n",
       "      <td>6.8</td>\n",
       "      <td>5.0</td>\n",
       "      <td>2.2</td>\n",
       "      <td>1.2</td>\n",
       "      <td>1</td>\n",
       "      <td>0</td>\n",
       "      <td>-0.022609</td>\n",
       "    </tr>\n",
       "    <tr>\n",
       "      <th>2</th>\n",
       "      <td>2021-08-30T05:21:04.021Z</td>\n",
       "      <td>7.2</td>\n",
       "      <td>3.2</td>\n",
       "      <td>5.5</td>\n",
       "      <td>2.5</td>\n",
       "      <td>2</td>\n",
       "      <td>0</td>\n",
       "      <td>-0.051693</td>\n",
       "    </tr>\n",
       "    <tr>\n",
       "      <th>3</th>\n",
       "      <td>2021-08-30T05:21:04.025Z</td>\n",
       "      <td>7.9</td>\n",
       "      <td>4.1</td>\n",
       "      <td>5.9</td>\n",
       "      <td>2.5</td>\n",
       "      <td>1</td>\n",
       "      <td>0</td>\n",
       "      <td>-0.138968</td>\n",
       "    </tr>\n",
       "    <tr>\n",
       "      <th>4</th>\n",
       "      <td>2021-08-30T05:21:04.035Z</td>\n",
       "      <td>6.7</td>\n",
       "      <td>3.6</td>\n",
       "      <td>4.5</td>\n",
       "      <td>2.0</td>\n",
       "      <td>1</td>\n",
       "      <td>0</td>\n",
       "      <td>-0.111961</td>\n",
       "    </tr>\n",
       "  </tbody>\n",
       "</table>\n",
       "</div>"
      ],
      "text/plain": [
       "                     __time  col1  col2  col3  col4  predict  Anomaly  \\\n",
       "0  2021-08-30T05:21:04.006Z   6.8   3.7   4.9   2.2        1        0   \n",
       "1  2021-08-30T05:21:04.012Z   6.8   5.0   2.2   1.2        1        0   \n",
       "2  2021-08-30T05:21:04.021Z   7.2   3.2   5.5   2.5        2        0   \n",
       "3  2021-08-30T05:21:04.025Z   7.9   4.1   5.9   2.5        1        0   \n",
       "4  2021-08-30T05:21:04.035Z   6.7   3.6   4.5   2.0        1        0   \n",
       "\n",
       "   Anomaly_Score  \n",
       "0      -0.164129  \n",
       "1      -0.022609  \n",
       "2      -0.051693  \n",
       "3      -0.138968  \n",
       "4      -0.111961  "
      ]
     },
     "execution_count": 18,
     "metadata": {},
     "output_type": "execute_result"
    }
   ],
   "source": [
    "pred_new.head()"
   ]
  },
  {
   "cell_type": "code",
   "execution_count": 19,
   "id": "afe8e3c9",
   "metadata": {},
   "outputs": [
    {
     "data": {
      "text/plain": [
       "496"
      ]
     },
     "execution_count": 19,
     "metadata": {},
     "output_type": "execute_result"
    }
   ],
   "source": [
    "len(pred_new)"
   ]
  },
  {
   "cell_type": "code",
   "execution_count": 20,
   "id": "6854c5e9",
   "metadata": {},
   "outputs": [
    {
     "data": {
      "text/plain": [
       "__time           2021-08-27T07:42:12.004Z\n",
       "col1                                  7.3\n",
       "col2                                  4.3\n",
       "col3                                  7.0\n",
       "col4                                  3.5\n",
       "predict                                 1\n",
       "Anomaly                                 0\n",
       "Anomaly_Score                   -0.028845\n",
       "Name: 0, dtype: object"
      ]
     },
     "execution_count": 20,
     "metadata": {},
     "output_type": "execute_result"
    }
   ],
   "source": [
    "pred_new.iloc[0]"
   ]
  },
  {
   "cell_type": "markdown",
   "id": "07737e83",
   "metadata": {},
   "source": [
    "contunously query druid every 10s and run the results through the anomaly model and post the anomaly detetction output back into druid"
   ]
  },
  {
   "cell_type": "code",
   "execution_count": null,
   "id": "141acec4",
   "metadata": {},
   "outputs": [],
   "source": [
    "client = KafkaClient(hosts='localhost:9092')\n",
    "topic = client.topics['anomaly']\n",
    "producer = topic.get_sync_producer()\n",
    "while true:\n",
    "    result3 = conn2.execute(text(\"select * from ml1 where __time > TIME_SHIFT(CURRENT_TIMESTAMP,'PT10S',-1)\"))\n",
    "    df3=pd.DataFrame(result3.mappings())\n",
    "    pred_new = predict_model(loaded_iforest , data=df3)\n",
    "    print(pred_new.head())\n",
    "    for i in range(len(pred_new)):\n",
    "\n",
    "        p=pred_new.iloc[i].to_json()\n",
    "        print(p)\n",
    "        producer.produce(p.encode('ascii'))\n",
    "    #n=json.dumps(pred_new)\n",
    "    time.sleep(10)"
   ]
  }
 ],
 "metadata": {
  "kernelspec": {
   "display_name": "Python 3 (ipykernel)",
   "language": "python",
   "name": "python3"
  },
  "language_info": {
   "codemirror_mode": {
    "name": "ipython",
    "version": 3
   },
   "file_extension": ".py",
   "mimetype": "text/x-python",
   "name": "python",
   "nbconvert_exporter": "python",
   "pygments_lexer": "ipython3",
   "version": "3.8.11"
  }
 },
 "nbformat": 4,
 "nbformat_minor": 5
}
